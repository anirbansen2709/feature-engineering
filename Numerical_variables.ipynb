{
  "nbformat": 4,
  "nbformat_minor": 0,
  "metadata": {
    "colab": {
      "name": "Numerical variables.ipynb",
      "version": "0.3.2",
      "provenance": [],
      "collapsed_sections": []
    },
    "kernelspec": {
      "name": "python3",
      "display_name": "Python 3"
    }
  },
  "cells": [
    {
      "metadata": {
        "id": "wS944Xz3_Pbv",
        "colab_type": "text"
      },
      "cell_type": "markdown",
      "source": [
        "**Numerical Variables**"
      ]
    },
    {
      "metadata": {
        "id": "4l81f8y3RMbh",
        "colab_type": "text"
      },
      "cell_type": "markdown",
      "source": [
        "**Numerical Variables**\n",
        "\n",
        "The values of a numerical variable are numbers. They can be further classified into discrete and continuous variables.\n",
        "\n",
        "**Discrete numerical variable**\n",
        "\n",
        "A variable which values are whole numbers (counts) is called discrete. For example, the number of items bought by a customer in a supermarket is discrete. The customer can buy 1, 25, or 50 items, but not 3.7 items. It is always a round number. The following are examples of discrete variables:\n",
        "\n",
        "Number of active bank accounts of a borrower (1, 4, 7, ...)\n",
        "Number of pets in the family\n",
        "Number of children in the family\n",
        "\n",
        "**Continuous numerical variable**\n",
        "\n",
        "A variable that may contain any value within some range is called continuous. For example, the total amount paid by a customer in a supermarket is continuous. The customer can pay, GBP 20.5, GBP 13.10, GBP 83.20 and so on. Other examples of continuous variables are:\n",
        "\n",
        "House price (in principle, it can take any value) (GBP 350000, 57000, 1000000, ...)\n",
        "Time spent surfing a website (3.4 seconds, 5.10 seconds, ...)\n",
        "Total debt as percentage of total income in the last month (0.2, 0.001, 0, 0.75, ...)"
      ]
    },
    {
      "metadata": {
        "id": "irRz6VsSTDCO",
        "colab_type": "text"
      },
      "cell_type": "markdown",
      "source": [
        "**Getting the dataset**"
      ]
    },
    {
      "metadata": {
        "id": "gmHNfhrGRVou",
        "colab_type": "code",
        "outputId": "337cfb57-ff00-4eca-f233-6d06edcc340d",
        "colab": {
          "base_uri": "https://localhost:8080/",
          "height": 547
        }
      },
      "cell_type": "code",
      "source": [
        "#to access kaggle datasets\n",
        "!pip install kaggle\n",
        "#Math operations\n",
        "!pip install numpy==1.15.0"
      ],
      "execution_count": 0,
      "outputs": [
        {
          "output_type": "stream",
          "text": [
            "Requirement already satisfied: kaggle in /usr/local/lib/python3.6/dist-packages (1.5.3)\n",
            "Requirement already satisfied: urllib3<1.25,>=1.21.1 in /usr/local/lib/python3.6/dist-packages (from kaggle) (1.22)\n",
            "Requirement already satisfied: six>=1.10 in /usr/local/lib/python3.6/dist-packages (from kaggle) (1.11.0)\n",
            "Requirement already satisfied: certifi in /usr/local/lib/python3.6/dist-packages (from kaggle) (2018.11.29)\n",
            "Requirement already satisfied: python-dateutil in /usr/local/lib/python3.6/dist-packages (from kaggle) (2.5.3)\n",
            "Requirement already satisfied: requests in /usr/local/lib/python3.6/dist-packages (from kaggle) (2.18.4)\n",
            "Requirement already satisfied: tqdm in /usr/local/lib/python3.6/dist-packages (from kaggle) (4.28.1)\n",
            "Requirement already satisfied: python-slugify in /usr/local/lib/python3.6/dist-packages (from kaggle) (2.0.1)\n",
            "Requirement already satisfied: idna<2.7,>=2.5 in /usr/local/lib/python3.6/dist-packages (from requests->kaggle) (2.6)\n",
            "Requirement already satisfied: chardet<3.1.0,>=3.0.2 in /usr/local/lib/python3.6/dist-packages (from requests->kaggle) (3.0.4)\n",
            "Requirement already satisfied: Unidecode>=0.04.16 in /usr/local/lib/python3.6/dist-packages (from python-slugify->kaggle) (1.0.23)\n",
            "Collecting numpy==1.15.0\n",
            "\u001b[?25l  Downloading https://files.pythonhosted.org/packages/88/29/f4c845648ed23264e986cdc5fbab5f8eace1be5e62144ef69ccc7189461d/numpy-1.15.0-cp36-cp36m-manylinux1_x86_64.whl (13.9MB)\n",
            "\u001b[K    100% |████████████████████████████████| 13.9MB 2.8MB/s \n",
            "\u001b[31mtorchvision 0.2.1 has requirement pillow>=4.1.1, but you'll have pillow 4.0.0 which is incompatible.\u001b[0m\n",
            "\u001b[31mthinc 6.12.1 has requirement wrapt<1.11.0,>=1.10.0, but you'll have wrapt 1.11.1 which is incompatible.\u001b[0m\n",
            "\u001b[31mtensorflow 1.13.1 has requirement tensorboard<1.14.0,>=1.13.0, but you'll have tensorboard 1.12.2 which is incompatible.\u001b[0m\n",
            "\u001b[31mpymc3 3.6 has requirement joblib<0.13.0, but you'll have joblib 0.13.2 which is incompatible.\u001b[0m\n",
            "\u001b[31mfeaturetools 0.4.1 has requirement pandas>=0.23.0, but you'll have pandas 0.22.0 which is incompatible.\u001b[0m\n",
            "\u001b[31malbumentations 0.1.12 has requirement imgaug<0.2.7,>=0.2.5, but you'll have imgaug 0.2.8 which is incompatible.\u001b[0m\n",
            "\u001b[?25hInstalling collected packages: numpy\n",
            "  Found existing installation: numpy 1.14.6\n",
            "    Uninstalling numpy-1.14.6:\n",
            "      Successfully uninstalled numpy-1.14.6\n",
            "Successfully installed numpy-1.15.0\n"
          ],
          "name": "stdout"
        },
        {
          "output_type": "display_data",
          "data": {
            "application/vnd.colab-display-data+json": {
              "pip_warning": {
                "packages": [
                  "numpy"
                ]
              }
            }
          },
          "metadata": {
            "tags": []
          }
        }
      ]
    },
    {
      "metadata": {
        "id": "c83mKK-ZTf9t",
        "colab_type": "code",
        "colab": {}
      },
      "cell_type": "code",
      "source": [
        "#data preprocessing\n",
        "import pandas as pd\n",
        "#math operations\n",
        "import numpy as np\n",
        "#visualisation\n",
        "import matplotlib.pyplot as plt"
      ],
      "execution_count": 0,
      "outputs": []
    },
    {
      "metadata": {
        "id": "lWkbfX5hToNT",
        "colab_type": "code",
        "outputId": "68f942e7-96a7-4efd-fe4e-574a247a2285",
        "colab": {
          "resources": {
            "http://localhost:8080/nbextensions/google.colab/files.js": {
              "data": "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",
              "ok": true,
              "headers": [
                [
                  "content-type",
                  "application/javascript"
                ]
              ],
              "status": 200,
              "status_text": ""
            }
          },
          "base_uri": "https://localhost:8080/",
          "height": 74
        }
      },
      "cell_type": "code",
      "source": [
        "#Colab's file access feature\n",
        "from google.colab import files\n",
        "#retrieve uploaded file\n",
        "uploaded = files.upload()\n",
        "#move kaggle.json into the file where the api expects it to be there\n",
        "!mkdir -p ~/.kaggle/ && mv kaggle.json ~/.kaggle/ && chmod 600 ~/.kaggle/kaggle.json"
      ],
      "execution_count": 0,
      "outputs": [
        {
          "output_type": "display_data",
          "data": {
            "text/html": [
              "\n",
              "     <input type=\"file\" id=\"files-4e62c00c-27eb-4944-b82c-02b048174e90\" name=\"files[]\" multiple disabled />\n",
              "     <output id=\"result-4e62c00c-27eb-4944-b82c-02b048174e90\">\n",
              "      Upload widget is only available when the cell has been executed in the\n",
              "      current browser session. Please rerun this cell to enable.\n",
              "      </output>\n",
              "      <script src=\"/nbextensions/google.colab/files.js\"></script> "
            ],
            "text/plain": [
              "<IPython.core.display.HTML object>"
            ]
          },
          "metadata": {
            "tags": []
          }
        },
        {
          "output_type": "stream",
          "text": [
            "Saving kaggle.json to kaggle.json\n"
          ],
          "name": "stdout"
        }
      ]
    },
    {
      "metadata": {
        "id": "jN12EWAB4jG-",
        "colab_type": "text"
      },
      "cell_type": "markdown",
      "source": [
        "**About the dataset:**\n",
        "\n",
        "Lending Club Loan Data :\n",
        "Analyze Lending Club's issued loans (https://www.kaggle.com/wendykan/lending-club-loan-data)\n",
        "\n",
        "These files contain complete loan data for all loans issued through the 2007-2015, including the current loan status (Current, Late, Fully Paid, etc.) and latest payment information. The file containing loan data through the \"present\" contains complete loan data for all loans issued through the previous completed calendar quarter. Additional features include credit scores, number of finance inquiries, address including zip codes, and state, and collections among others. The file is a matrix of about 890 thousand observations and 75 variables. A data dictionary is provided in a separate file."
      ]
    },
    {
      "metadata": {
        "id": "dpfAW4r4Two9",
        "colab_type": "code",
        "outputId": "9a47350d-04ed-4f0d-8f29-d6144dd64129",
        "colab": {
          "base_uri": "https://localhost:8080/",
          "height": 68
        }
      },
      "cell_type": "code",
      "source": [
        "!kaggle datasets download -d wendykan/lending-club-loan-data"
      ],
      "execution_count": 0,
      "outputs": [
        {
          "output_type": "stream",
          "text": [
            "Downloading lending-club-loan-data.zip to /content\n",
            " 93% 222M/240M [00:02<00:00, 120MB/s]\n",
            "100% 240M/240M [00:02<00:00, 116MB/s]\n"
          ],
          "name": "stdout"
        }
      ]
    },
    {
      "metadata": {
        "id": "HWB59EmsT4GL",
        "colab_type": "code",
        "outputId": "c1d8ee8f-e643-4875-8448-18c2b7c46cbf",
        "colab": {
          "base_uri": "https://localhost:8080/",
          "height": 136
        }
      },
      "cell_type": "code",
      "source": [
        "!ls\n",
        "!unzip 'lending-club-loan-data.zip'\n",
        "!ls"
      ],
      "execution_count": 0,
      "outputs": [
        {
          "output_type": "stream",
          "text": [
            "lending-club-loan-data.zip  sample_data\n",
            "Archive:  lending-club-loan-data.zip\n",
            "  inflating: LCDataDictionary.xlsx   \n",
            "  inflating: database.sqlite         \n",
            "  inflating: loan.csv                \n",
            "database.sqlite        lending-club-loan-data.zip  sample_data\n",
            "LCDataDictionary.xlsx  loan.csv\n"
          ],
          "name": "stdout"
        }
      ]
    },
    {
      "metadata": {
        "id": "8CHeSF4LU5BA",
        "colab_type": "code",
        "colab": {}
      },
      "cell_type": "code",
      "source": [
        "#Extract training data into a dataframe for further manipulation\n",
        "use_cols = [\n",
        "    'loan_amnt', 'int_rate', 'annual_inc', 'open_acc', 'loan_status',\n",
        "    'open_il_12m'\n",
        "]\n",
        "\n",
        "data = pd.read_csv(\n",
        "    'loan.csv', usecols=use_cols).sample(\n",
        "        10000, random_state=44)"
      ],
      "execution_count": 0,
      "outputs": []
    },
    {
      "metadata": {
        "id": "2psZQPleVcDe",
        "colab_type": "code",
        "outputId": "3ba461cb-db54-4e7f-c545-2465abaa1a42",
        "colab": {
          "base_uri": "https://localhost:8080/",
          "height": 204
        }
      },
      "cell_type": "code",
      "source": [
        "data.head()"
      ],
      "execution_count": 0,
      "outputs": [
        {
          "output_type": "execute_result",
          "data": {
            "text/html": [
              "<div>\n",
              "<style scoped>\n",
              "    .dataframe tbody tr th:only-of-type {\n",
              "        vertical-align: middle;\n",
              "    }\n",
              "\n",
              "    .dataframe tbody tr th {\n",
              "        vertical-align: top;\n",
              "    }\n",
              "\n",
              "    .dataframe thead th {\n",
              "        text-align: right;\n",
              "    }\n",
              "</style>\n",
              "<table border=\"1\" class=\"dataframe\">\n",
              "  <thead>\n",
              "    <tr style=\"text-align: right;\">\n",
              "      <th></th>\n",
              "      <th>loan_amnt</th>\n",
              "      <th>int_rate</th>\n",
              "      <th>annual_inc</th>\n",
              "      <th>loan_status</th>\n",
              "      <th>open_acc</th>\n",
              "      <th>open_il_12m</th>\n",
              "    </tr>\n",
              "  </thead>\n",
              "  <tbody>\n",
              "    <tr>\n",
              "      <th>131079</th>\n",
              "      <td>23675.0</td>\n",
              "      <td>15.80</td>\n",
              "      <td>90000.0</td>\n",
              "      <td>Current</td>\n",
              "      <td>4.0</td>\n",
              "      <td>NaN</td>\n",
              "    </tr>\n",
              "    <tr>\n",
              "      <th>384935</th>\n",
              "      <td>7500.0</td>\n",
              "      <td>11.67</td>\n",
              "      <td>102000.0</td>\n",
              "      <td>Current</td>\n",
              "      <td>11.0</td>\n",
              "      <td>NaN</td>\n",
              "    </tr>\n",
              "    <tr>\n",
              "      <th>73585</th>\n",
              "      <td>11150.0</td>\n",
              "      <td>9.25</td>\n",
              "      <td>72000.0</td>\n",
              "      <td>Fully Paid</td>\n",
              "      <td>6.0</td>\n",
              "      <td>NaN</td>\n",
              "    </tr>\n",
              "    <tr>\n",
              "      <th>660814</th>\n",
              "      <td>8000.0</td>\n",
              "      <td>6.24</td>\n",
              "      <td>101400.0</td>\n",
              "      <td>Current</td>\n",
              "      <td>20.0</td>\n",
              "      <td>NaN</td>\n",
              "    </tr>\n",
              "    <tr>\n",
              "      <th>349757</th>\n",
              "      <td>34000.0</td>\n",
              "      <td>19.52</td>\n",
              "      <td>99000.0</td>\n",
              "      <td>Current</td>\n",
              "      <td>12.0</td>\n",
              "      <td>NaN</td>\n",
              "    </tr>\n",
              "  </tbody>\n",
              "</table>\n",
              "</div>"
            ],
            "text/plain": [
              "        loan_amnt  int_rate  annual_inc loan_status  open_acc  open_il_12m\n",
              "131079    23675.0     15.80     90000.0     Current       4.0          NaN\n",
              "384935     7500.0     11.67    102000.0     Current      11.0          NaN\n",
              "73585     11150.0      9.25     72000.0  Fully Paid       6.0          NaN\n",
              "660814     8000.0      6.24    101400.0     Current      20.0          NaN\n",
              "349757    34000.0     19.52     99000.0     Current      12.0          NaN"
            ]
          },
          "metadata": {
            "tags": []
          },
          "execution_count": 9
        }
      ]
    },
    {
      "metadata": {
        "id": "BMB5KYJnVmCX",
        "colab_type": "text"
      },
      "cell_type": "markdown",
      "source": [
        "**1.Continuous Variables**"
      ]
    },
    {
      "metadata": {
        "id": "42c6Ewlv3wll",
        "colab_type": "text"
      },
      "cell_type": "markdown",
      "source": [
        "1.1 Loan Amount"
      ]
    },
    {
      "metadata": {
        "id": "DSlmo8lpVr8X",
        "colab_type": "code",
        "outputId": "9f7fe4ad-297b-433e-edea-30c188cbed7d",
        "colab": {
          "base_uri": "https://localhost:8080/",
          "height": 1921
        }
      },
      "cell_type": "code",
      "source": [
        "data.loan_amnt.unique()"
      ],
      "execution_count": 0,
      "outputs": [
        {
          "output_type": "execute_result",
          "data": {
            "text/plain": [
              "array([23675.,  7500., 11150.,  8000., 34000.,  8725., 30000., 10000.,\n",
              "       10200., 18000., 24000., 12000., 19200., 35000.,  4800., 16800.,\n",
              "       14725., 16000., 31500., 22500., 18800., 14100., 20000.,  5000.,\n",
              "       10625., 13350., 15000.,  2900., 28000., 15950.,  1500.,  1000.,\n",
              "       25000., 19500., 13000., 21000., 17650.,  9600., 14525.,  5600.,\n",
              "        6400.,  6000., 14000., 11000., 22400., 16825.,  8200., 21600.,\n",
              "       20675.,  2000.,  3950.,  4000.,  9500.,  8975., 13625.,  7000.,\n",
              "        5500.,  9450., 10800.,  7200., 27700.,  4650.,  3600.,  6450.,\n",
              "       15625.,  4825., 11200.,  4200., 28500.,  3375.,  5800.,  4425.,\n",
              "       25875., 24800., 14400., 22000., 19750., 26500.,  3625., 17000.,\n",
              "       21125.,  7525.,  3000.,  9250., 14675., 11700.,  7025., 19775.,\n",
              "       17800., 10300., 13200., 32000., 15400., 10575.,  9000., 10075.,\n",
              "       14600., 11550., 12500., 20975., 26000., 22250., 17100., 13375.,\n",
              "       12125., 23900., 28800., 12800., 10750.,  3500.,  4850., 18550.,\n",
              "       12250., 10500.,  4225.,  3925.,  6950., 33000., 23250.,  7225.,\n",
              "        1600., 14175., 23000., 11400.,  8500.,  2800., 20375., 10475.,\n",
              "       19275.,  8900., 11250., 17600., 21150.,  6700.,  9150., 11325.,\n",
              "       27800.,  5950., 29700., 24500., 12100.,  8425., 19600.,  3700.,\n",
              "        2500., 11975.,  8225.,  1975.,  7750., 19100., 29000.,  4750.,\n",
              "        5400., 23200., 30625., 16550., 15425., 20125., 28650., 30225.,\n",
              "        9800.,  5550., 11500., 21200., 19175., 12375., 23325., 18300.,\n",
              "        2950., 16450.,  6675., 17625.,  9125.,  9550., 15475., 21100.,\n",
              "       15850., 16700.,  3850.,  7100., 11625., 20500., 13300.,  9750.,\n",
              "       22800., 27000., 26400., 10250., 29975., 29275.,  7050., 18225.,\n",
              "       10975., 21825., 22950.,  3775., 15600., 18875., 12575., 12475.,\n",
              "        5750., 32200., 14375.,  3975., 22050., 24925., 14900., 26575.,\n",
              "       15500.,  5300.,  3300.,  1200.,  8750., 13675.,  3425., 27175.,\n",
              "        7600.,  6500., 29850., 13150., 17875., 10450.,  7925.,  8800.,\n",
              "       10775., 11900., 17575., 19900., 13775.,  4175.,  6725., 17975.,\n",
              "       19000.,  3200.,  5175., 28100.,  7800.,  6800., 16425., 19150.,\n",
              "       16500., 23450., 17850., 17925.,  4925.,  7250., 16875., 22825.,\n",
              "        4550., 12600., 11850., 14750., 13450.,  1800., 22375.,  4300.,\n",
              "       10100., 11175., 24375., 23875.,  4450., 15825., 29325.,  4125.,\n",
              "       25600., 18200., 12525., 12450.,  5375., 13600.,  4250., 12400.,\n",
              "        1400., 23300.,  6300.,  7400., 22200.,  5025., 22225., 17500.,\n",
              "       16200., 32400.,  4900.,  5200.,  7900., 30750.,  3250., 14025.,\n",
              "        3400., 11950., 24900., 13525., 14500., 13700., 27575., 24325.,\n",
              "       11575., 11750.,  7300., 12700., 25750.,  4950., 28900., 33950.,\n",
              "       11425., 20400.,  8400., 25975., 32500.,  3650.,  3350.,  7575.,\n",
              "        7075., 28250.,  5075., 24700., 20050.,  4725.,  2750., 14325.,\n",
              "        8600., 14425., 17275., 13500., 21850., 23975.,  7175., 12425.,\n",
              "       10050.,  4500.,  4700., 11050.,  2400.,  8125., 18250., 11300.,\n",
              "       17425.,  2100., 16575.,  8275., 24625., 24450., 24525., 30925.,\n",
              "       10950., 32625.,  5450., 25725., 10675., 13425., 19675.,  3875.,\n",
              "       10400., 20250.,  6050., 12175., 18900., 23950., 16150., 27675.,\n",
              "       25075.,  6075., 19050., 11525., 11075., 12075.,  8100.,  8250.,\n",
              "       22750.,  3325.,  6475., 20325., 21350., 15275., 10225.,  2375.,\n",
              "       21700., 19125., 27875., 20700.,  9975., 33600., 16900., 10150.,\n",
              "        8875., 13750., 11800., 14075.,  7125., 16750.,  6250., 18500.,\n",
              "       10825., 26900.,  6150.,  8150., 12875.,  1950., 34550.,  5050.,\n",
              "        4475.,  8700., 11450., 25200., 27500.,  8325., 22550., 16975.,\n",
              "       23475.,  7350., 31050.,  9700., 23350., 21275., 13050., 10325.,\n",
              "        8850.,  9200.,  9925., 16100., 13650.,  2875., 11600., 27550.,\n",
              "       18025., 19575.,  9375., 14450., 27250., 32100., 23750., 17950.,\n",
              "       19075., 19800.,  8950., 10600., 18400., 23400.,  8450.,  8025.,\n",
              "       12925.,  2325., 31975.,  4675., 14975., 18825., 31300., 27200.,\n",
              "        6225., 20200., 15775., 21400., 19700.,  2475.,  9900., 12675.,\n",
              "       15250., 23500., 16950., 11375., 28200.,  4375., 24350., 18350.,\n",
              "       13800.,  5100.,  8300., 10375., 10275., 15300., 23650., 20425.,\n",
              "        8175.,  6425., 14125.,  6825.,  3550., 31450., 15225., 13475.,\n",
              "       17325., 20550., 12725., 30600., 15875.,  2700.,  9025., 12975.,\n",
              "       30500.,  5925.,  7375.,  3900.,  9400.,  3825.,  9175.,  6875.,\n",
              "       31000.,  3100.,  2525.,  2200., 15700., 11025., 25225., 23275.,\n",
              "       32950.,  5250.,  2250., 27050., 14825., 26600.,  7825., 18575.,\n",
              "       23850.,  5225.,  6350., 19725., 32650., 32675., 14575., 23575.,\n",
              "        2150.,  3225., 16850., 11100.,  9675., 20875., 29175., 13900.,\n",
              "       29900.,  7775., 21250., 29100., 24975.,  4075., 19300., 13225.,\n",
              "       10550., 12750., 11875., 20800., 31825., 12275.,  1675., 21475.,\n",
              "        9875., 10700., 26850.,  8775., 18600.,  9950., 24600., 10850.,\n",
              "       15975.,  5700., 20150., 22850., 23825.,  9325.,  2850., 29775.,\n",
              "        9100., 32225., 33575., 10900., 22100.,  3050., 12625., 15750.,\n",
              "       11225., 13925., 13975., 14150.,  9650., 24250., 16225., 31200.,\n",
              "        3025., 15125.,  4400., 17400., 19350., 18700., 12150., 18075.,\n",
              "        9050., 23625.,  7150., 11125.,  6200., 24200., 32125., 30150.,\n",
              "       19025.,  9825.,  1900., 12950., 14800.,  2275., 22575., 28975.,\n",
              "       16300., 25275.,  9850., 22475., 16375., 22125., 30100., 24650.,\n",
              "       15100., 27600., 33875., 12775., 27325., 24475.,  1450., 18625.,\n",
              "       17825., 25450., 16250., 26375., 20950.,  2975., 15900., 15725.,\n",
              "       16475., 34475., 24175.,  6625.,  9225., 11350., 16400.,  5725.,\n",
              "       24400., 16125., 22600.,  3275., 10025., 23600., 22150., 30350.,\n",
              "       32350.,  8650., 10525., 28675., 21900., 19475.,  1875.,  7475.,\n",
              "       15375., 34025.,  9625., 33675., 24725.,  5275., 34625., 15800.,\n",
              "        2600., 21300.,  4600., 29400., 23800., 11475.,  5875.,  8550.,\n",
              "       23075., 20175., 22650., 11275.,  4100., 18050.,  5625., 20775.,\n",
              "       17050., 17700., 23525., 10725.,  3575., 12300., 25475., 17475.,\n",
              "        3800., 19950., 18150., 29050., 18750., 30800., 20225., 33500.,\n",
              "       13325., 17225., 25150., 28375., 16725., 34800., 15200., 15450.,\n",
              "       19375., 17750., 17075.,  7625.,  7725.,  3125., 10875.,  5150.,\n",
              "       12900.,  3450., 26925., 15350.,  4875., 10350.,  7325., 21750.,\n",
              "       33100.,  7950., 18450., 26975.,  9350.,  5425.,  9300.,  1925.,\n",
              "       13250.,  6850.,  9525., 33175., 11675.,  7700., 20100., 25700.,\n",
              "       10425.,  8525., 13125., 22075., 25350., 12225., 18175., 30375.,\n",
              "        4275.,  5975., 16675., 13850., 14050., 25325.,  5125.,  9275.,\n",
              "       11725., 20925., 13075., 13575., 27350., 28625.,  1100.,  6275.,\n",
              "       16600., 10175., 32875.,  6750.,  9775., 20650.,  5825., 28850.,\n",
              "       16625.,  6575., 17775.,  5350., 23125.,  2725.,  4625.,  8050.,\n",
              "       12050.,  7875., 18975.,  3075., 17125., 14275., 33425., 17350.,\n",
              "       24550., 27450., 19550., 21575., 14300., 27725., 26650.,  2775.,\n",
              "        6125., 27525., 34500., 19825.,  8625., 29500., 18725., 12825.,\n",
              "       10650.,  5475.,  5525., 22700., 22425., 21775., 20300., 20750.,\n",
              "       24575., 19425.,  9075., 25300., 12350., 28050., 27625.,  8475.,\n",
              "       30075., 14475.,  6600., 15075.,  7550., 13400.,  5325., 26125.,\n",
              "       27850., 17550., 14700., 22525., 13950., 15925., 12325., 24100.,\n",
              "       21450.,  7275.,  7850., 27100.,  6925., 19400.,  8350., 21725.,\n",
              "       21650., 14950.,  5900.,  4575.,  6025., 31700., 28775., 26800.,\n",
              "        4325., 13825., 11825.,  3725.,  9725., 13725., 21050., 32450.,\n",
              "       25500., 19875., 24825., 29450.,  7975., 16525.,  4025., 11775.,\n",
              "       19650., 27425., 24750., 13100.,  6100., 15550., 20450., 22675.,\n",
              "       27300., 19850.,  1550., 26275.,  6975., 20475., 29575., 32750.,\n",
              "       24950., 18525., 26750., 32850., 23100., 20350.,  7650., 14225.,\n",
              "       12850., 26475., 28425., 12200., 15650., 32050., 33750., 13875.,\n",
              "       18650., 13025.])"
            ]
          },
          "metadata": {
            "tags": []
          },
          "execution_count": 18
        }
      ]
    },
    {
      "metadata": {
        "id": "25TZrfh6V5gQ",
        "colab_type": "code",
        "outputId": "632f8c47-0029-4ba9-916b-f687ca73ef63",
        "colab": {
          "base_uri": "https://localhost:8080/",
          "height": 393
        }
      },
      "cell_type": "code",
      "source": [
        "fig = data.loan_amnt.hist(bins=50)\n",
        "fig.set_title('Loan Amount Requested')\n",
        "fig.set_xlabel('Loan Amount')\n",
        "fig.set_ylabel('Number of Loans')"
      ],
      "execution_count": 0,
      "outputs": [
        {
          "output_type": "execute_result",
          "data": {
            "text/plain": [
              "Text(0, 0.5, 'Number of Loans')"
            ]
          },
          "metadata": {
            "tags": []
          },
          "execution_count": 20
        },
        {
          "output_type": "display_data",
          "data": {
            "image/png": "[encoded data removed]",
            "text/plain": [
              "<Figure size 576x396 with 1 Axes>"
            ]
          },
          "metadata": {
            "tags": []
          }
        }
      ]
    },
    {
      "metadata": {
        "id": "kkyMNBxk31nz",
        "colab_type": "text"
      },
      "cell_type": "markdown",
      "source": [
        "1.2 Interest Rates"
      ]
    },
    {
      "metadata": {
        "id": "oimeC8mEWgD5",
        "colab_type": "code",
        "outputId": "414a7e8a-c0c3-4ed0-bf42-a06ebc5cbab7",
        "colab": {
          "base_uri": "https://localhost:8080/",
          "height": 680
        }
      },
      "cell_type": "code",
      "source": [
        "data.int_rate.unique()"
      ],
      "execution_count": 0,
      "outputs": [
        {
          "output_type": "execute_result",
          "data": {
            "text/plain": [
              "array([15.8 , 11.67,  9.25,  6.24, 19.52, 15.88, 17.86, 16.55, 25.83,\n",
              "        8.9 , 10.64,  7.9 , 16.99, 20.99, 10.99,  9.67, 11.44, 11.53,\n",
              "       13.11, 13.33, 17.57, 19.99, 15.41,  6.17, 18.25, 16.2 ,  9.99,\n",
              "       24.89, 12.69,  9.32, 19.05,  7.89, 11.55,  9.76,  8.18, 20.49,\n",
              "        8.67,  9.17, 16.59, 15.61, 18.24, 14.91,  7.62, 13.99, 11.14,\n",
              "       16.29, 14.99, 13.98, 13.53, 12.49, 14.64,  6.62,  5.93, 25.57,\n",
              "       13.65,  5.32,  6.49, 15.22, 13.18, 11.49,  9.71, 14.33, 24.99,\n",
              "       15.59, 18.99, 14.65, 13.67,  6.68, 12.59, 11.48,  6.03, 19.19,\n",
              "       12.05, 13.57, 13.35, 12.85, 10.16,  8.49, 17.27,  7.26,  7.12,\n",
              "       13.48,  8.39, 12.39, 12.99, 14.49, 11.26,  8.19, 10.15, 17.56,\n",
              "       27.88, 19.97,  9.49, 13.66, 12.29, 21.48, 11.99, 11.22, 17.14,\n",
              "       10.74, 13.23, 15.31, 12.12, 18.29, 18.75, 18.54, 24.5 ,  6.92,\n",
              "       19.24, 10.49,  7.49, 17.76,  6.99, 22.99, 14.16, 13.68, 14.75,\n",
              "       13.49, 10.  , 19.72,  7.69, 12.88,  6.  , 18.84, 15.33, 23.4 ,\n",
              "       18.55, 14.09,  7.88, 16.78, 20.5 , 19.03, 24.08, 14.98, 22.15,\n",
              "        6.89, 17.1 , 14.27, 17.99,  9.8 , 21.  , 15.27,  6.39, 15.99,\n",
              "        5.99,  7.91, 21.99, 23.13, 13.05, 15.95, 19.22, 14.96, 14.3 ,\n",
              "       21.49, 14.31, 20.3 , 14.35, 12.35, 12.42, 12.84, 20.8 , 18.3 ,\n",
              "        7.14, 20.2 , 25.8 , 15.58, 18.2 , 16.49, 16.02, 13.44, 23.99,\n",
              "       22.7 , 11.83,  7.29, 13.79, 10.95, 17.77,  8.38, 21.7 , 14.48,\n",
              "       18.92,  8.88, 23.1 , 22.45, 26.06, 14.47, 23.43, 10.65, 18.49,\n",
              "       21.67, 14.84,  9.45, 26.77, 19.47, 21.6 ,  5.42,  9.63, 13.92,\n",
              "       16.24, 19.69,  6.54, 15.1 , 23.63, 23.7 ,  7.51, 15.23, 20.31,\n",
              "       25.89, 19.79, 17.91, 14.59,  6.91, 17.49,  7.66, 17.88, 25.99,\n",
              "       11.71,  5.79, 11.03, 23.26, 19.2 , 22.95, 16.7 , 16.77, 27.31,\n",
              "       17.97, 12.53, 24.7 , 10.37, 12.61, 15.28, 24.83, 15.81, 16.32,\n",
              "       10.36, 10.59, 23.76, 15.7 , 13.06,  6.97, 15.65, 13.55, 23.28,\n",
              "       21.98,  8.32, 11.11, 15.57, 12.68, 12.92, 15.13,  7.43, 15.77,\n",
              "       22.2 , 19.74, 12.87, 14.61, 14.22, 12.73, 23.5 , 19.29, 13.93,\n",
              "       18.79,  7.74, 25.78, 19.91, 15.96, 10.38, 18.61, 15.83, 22.9 ,\n",
              "       15.2 , 17.58, 21.59, 16.82,  8.6 , 22.4 , 17.43, 13.61, 18.67,\n",
              "       10.75, 11.12,  6.76, 13.43,  8.  , 21.18,  9.96, 11.36, 11.89,\n",
              "       21.15, 18.53, 13.22,  9.83,  8.94, 18.85, 12.18, 16.69, 13.85,\n",
              "       13.8 , 15.62, 14.11, 16.45, 14.5 , 22.48, 10.25, 11.86, 13.47,\n",
              "       22.94, 12.98, 14.54, 18.64, 11.34,  9.91, 14.26, 10.71, 10.78,\n",
              "       17.93, 21.74, 19.04, 11.66, 20.62, 21.27, 14.17, 23.83,  8.07,\n",
              "       14.74, 19.82, 22.47, 11.58, 17.74,  9.62, 16.89, 24.24, 14.72,\n",
              "       15.37, 19.48, 10.62, 18.39, 20.9 , 14.42, 12.41, 10.39, 12.21,\n",
              "       11.72, 14.79, 19.42, 18.62, 14.85, 16.4 , 16.  , 14.46])"
            ]
          },
          "metadata": {
            "tags": []
          },
          "execution_count": 21
        }
      ]
    },
    {
      "metadata": {
        "id": "_iMe-EGTWr9s",
        "colab_type": "code",
        "outputId": "81f6879a-89c9-4347-b44a-206c877c5264",
        "colab": {
          "base_uri": "https://localhost:8080/",
          "height": 393
        }
      },
      "cell_type": "code",
      "source": [
        "fig = data.int_rate.hist(bins=30)\n",
        "fig.set_title('Interest Rate')\n",
        "fig.set_xlabel('Interest Rates')\n",
        "fig.set_ylabel('Number of Loans')"
      ],
      "execution_count": 0,
      "outputs": [
        {
          "output_type": "execute_result",
          "data": {
            "text/plain": [
              "Text(0, 0.5, 'Number of Loans')"
            ]
          },
          "metadata": {
            "tags": []
          },
          "execution_count": 27
        },
        {
          "output_type": "display_data",
          "data": {
            "image/png": "[encoded data removed]",
            "text/plain": [
              "<Figure size 576x396 with 1 Axes>"
            ]
          },
          "metadata": {
            "tags": []
          }
        }
      ]
    },
    {
      "metadata": {
        "id": "1fKsf2a94CGF",
        "colab_type": "text"
      },
      "cell_type": "markdown",
      "source": [
        "1.3 Annual Income"
      ]
    },
    {
      "metadata": {
        "id": "qc_0rNYZXw8h",
        "colab_type": "code",
        "outputId": "d144e395-ea4e-4b64-ae48-dc55f16e3838",
        "colab": {
          "base_uri": "https://localhost:8080/",
          "height": 34
        }
      },
      "cell_type": "code",
      "source": [
        "data.annual_inc.unique()"
      ],
      "execution_count": 0,
      "outputs": [
        {
          "output_type": "execute_result",
          "data": {
            "text/plain": [
              "array([ 90000., 102000.,  72000., ...,  26645., 243000.,  57672.])"
            ]
          },
          "metadata": {
            "tags": []
          },
          "execution_count": 28
        }
      ]
    },
    {
      "metadata": {
        "id": "gGPagnwdX2vm",
        "colab_type": "code",
        "outputId": "cdbc63b5-70de-4203-dea3-2043620fac39",
        "colab": {
          "base_uri": "https://localhost:8080/",
          "height": 393
        }
      },
      "cell_type": "code",
      "source": [
        "fig = data.annual_inc.hist(bins=200)\n",
        "fig.set_xlim(0, 400000)\n",
        "fig.set_title('Annual Incomes')\n",
        "fig.set_xlabel('Annual Incomes')\n",
        "fig.set_ylabel('Number of Customers')"
      ],
      "execution_count": 0,
      "outputs": [
        {
          "output_type": "execute_result",
          "data": {
            "text/plain": [
              "Text(0, 0.5, 'Number of Customers')"
            ]
          },
          "metadata": {
            "tags": []
          },
          "execution_count": 38
        },
        {
          "output_type": "display_data",
          "data": {
            "image/png": "[encoded data removed]",
            "text/plain": [
              "<Figure size 576x396 with 1 Axes>"
            ]
          },
          "metadata": {
            "tags": []
          }
        }
      ]
    },
    {
      "metadata": {
        "id": "dSoYSLookcLo",
        "colab_type": "text"
      },
      "cell_type": "markdown",
      "source": [
        "**2.Discrete Variables**"
      ]
    },
    {
      "metadata": {
        "id": "l21FmHKn4JAb",
        "colab_type": "text"
      },
      "cell_type": "markdown",
      "source": [
        "2.1 Loan Status"
      ]
    },
    {
      "metadata": {
        "id": "PeTzx2W8kU-A",
        "colab_type": "code",
        "outputId": "61fed568-44fe-48b1-cafd-76f572254209",
        "colab": {
          "base_uri": "https://localhost:8080/",
          "height": 102
        }
      },
      "cell_type": "code",
      "source": [
        "data.loan_status.unique()"
      ],
      "execution_count": 0,
      "outputs": [
        {
          "output_type": "execute_result",
          "data": {
            "text/plain": [
              "array(['Current', 'Fully Paid', 'Default', 'Charged Off',\n",
              "       'Late (31-120 days)', 'Issued', 'In Grace Period',\n",
              "       'Does not meet the credit policy. Status:Fully Paid',\n",
              "       'Does not meet the credit policy. Status:Charged Off',\n",
              "       'Late (16-30 days)'], dtype=object)"
            ]
          },
          "metadata": {
            "tags": []
          },
          "execution_count": 10
        }
      ]
    },
    {
      "metadata": {
        "id": "XWVXTS2YxHDU",
        "colab_type": "code",
        "colab": {}
      },
      "cell_type": "code",
      "source": [
        "data['defaulted'] = np.where(data.loan_status.isin(['Default']),1,0)"
      ],
      "execution_count": 0,
      "outputs": []
    },
    {
      "metadata": {
        "id": "pVRk0gKuxoY0",
        "colab_type": "code",
        "outputId": "8a58fac2-7315-425a-b8eb-a4c49e81a618",
        "colab": {
          "base_uri": "https://localhost:8080/",
          "height": 204
        }
      },
      "cell_type": "code",
      "source": [
        "data.head()"
      ],
      "execution_count": 0,
      "outputs": [
        {
          "output_type": "execute_result",
          "data": {
            "text/html": [
              "<div>\n",
              "<style scoped>\n",
              "    .dataframe tbody tr th:only-of-type {\n",
              "        vertical-align: middle;\n",
              "    }\n",
              "\n",
              "    .dataframe tbody tr th {\n",
              "        vertical-align: top;\n",
              "    }\n",
              "\n",
              "    .dataframe thead th {\n",
              "        text-align: right;\n",
              "    }\n",
              "</style>\n",
              "<table border=\"1\" class=\"dataframe\">\n",
              "  <thead>\n",
              "    <tr style=\"text-align: right;\">\n",
              "      <th></th>\n",
              "      <th>loan_amnt</th>\n",
              "      <th>int_rate</th>\n",
              "      <th>annual_inc</th>\n",
              "      <th>loan_status</th>\n",
              "      <th>open_acc</th>\n",
              "      <th>open_il_12m</th>\n",
              "      <th>defaulted</th>\n",
              "    </tr>\n",
              "  </thead>\n",
              "  <tbody>\n",
              "    <tr>\n",
              "      <th>131079</th>\n",
              "      <td>23675.0</td>\n",
              "      <td>15.80</td>\n",
              "      <td>90000.0</td>\n",
              "      <td>Current</td>\n",
              "      <td>4.0</td>\n",
              "      <td>NaN</td>\n",
              "      <td>0</td>\n",
              "    </tr>\n",
              "    <tr>\n",
              "      <th>384935</th>\n",
              "      <td>7500.0</td>\n",
              "      <td>11.67</td>\n",
              "      <td>102000.0</td>\n",
              "      <td>Current</td>\n",
              "      <td>11.0</td>\n",
              "      <td>NaN</td>\n",
              "      <td>0</td>\n",
              "    </tr>\n",
              "    <tr>\n",
              "      <th>73585</th>\n",
              "      <td>11150.0</td>\n",
              "      <td>9.25</td>\n",
              "      <td>72000.0</td>\n",
              "      <td>Fully Paid</td>\n",
              "      <td>6.0</td>\n",
              "      <td>NaN</td>\n",
              "      <td>0</td>\n",
              "    </tr>\n",
              "    <tr>\n",
              "      <th>660814</th>\n",
              "      <td>8000.0</td>\n",
              "      <td>6.24</td>\n",
              "      <td>101400.0</td>\n",
              "      <td>Current</td>\n",
              "      <td>20.0</td>\n",
              "      <td>NaN</td>\n",
              "      <td>0</td>\n",
              "    </tr>\n",
              "    <tr>\n",
              "      <th>349757</th>\n",
              "      <td>34000.0</td>\n",
              "      <td>19.52</td>\n",
              "      <td>99000.0</td>\n",
              "      <td>Current</td>\n",
              "      <td>12.0</td>\n",
              "      <td>NaN</td>\n",
              "      <td>0</td>\n",
              "    </tr>\n",
              "  </tbody>\n",
              "</table>\n",
              "</div>"
            ],
            "text/plain": [
              "        loan_amnt  int_rate  annual_inc loan_status  open_acc  open_il_12m  \\\n",
              "131079    23675.0     15.80     90000.0     Current       4.0          NaN   \n",
              "384935     7500.0     11.67    102000.0     Current      11.0          NaN   \n",
              "73585     11150.0      9.25     72000.0  Fully Paid       6.0          NaN   \n",
              "660814     8000.0      6.24    101400.0     Current      20.0          NaN   \n",
              "349757    34000.0     19.52     99000.0     Current      12.0          NaN   \n",
              "\n",
              "        defaulted  \n",
              "131079          0  \n",
              "384935          0  \n",
              "73585           0  \n",
              "660814          0  \n",
              "349757          0  "
            ]
          },
          "metadata": {
            "tags": []
          },
          "execution_count": 15
        }
      ]
    },
    {
      "metadata": {
        "id": "kfCLBaT5x7Zz",
        "colab_type": "code",
        "outputId": "48a200b9-1d20-4f47-da89-1e819ff65d8a",
        "colab": {
          "base_uri": "https://localhost:8080/",
          "height": 204
        }
      },
      "cell_type": "code",
      "source": [
        "data[data.loan_status.isin(['Default'])].head()"
      ],
      "execution_count": 0,
      "outputs": [
        {
          "output_type": "execute_result",
          "data": {
            "text/html": [
              "<div>\n",
              "<style scoped>\n",
              "    .dataframe tbody tr th:only-of-type {\n",
              "        vertical-align: middle;\n",
              "    }\n",
              "\n",
              "    .dataframe tbody tr th {\n",
              "        vertical-align: top;\n",
              "    }\n",
              "\n",
              "    .dataframe thead th {\n",
              "        text-align: right;\n",
              "    }\n",
              "</style>\n",
              "<table border=\"1\" class=\"dataframe\">\n",
              "  <thead>\n",
              "    <tr style=\"text-align: right;\">\n",
              "      <th></th>\n",
              "      <th>loan_amnt</th>\n",
              "      <th>int_rate</th>\n",
              "      <th>annual_inc</th>\n",
              "      <th>loan_status</th>\n",
              "      <th>open_acc</th>\n",
              "      <th>open_il_12m</th>\n",
              "      <th>defaulted</th>\n",
              "    </tr>\n",
              "  </thead>\n",
              "  <tbody>\n",
              "    <tr>\n",
              "      <th>444724</th>\n",
              "      <td>10200.0</td>\n",
              "      <td>25.83</td>\n",
              "      <td>37000.0</td>\n",
              "      <td>Default</td>\n",
              "      <td>8.0</td>\n",
              "      <td>NaN</td>\n",
              "      <td>1</td>\n",
              "    </tr>\n",
              "    <tr>\n",
              "      <th>241318</th>\n",
              "      <td>22000.0</td>\n",
              "      <td>20.99</td>\n",
              "      <td>44000.0</td>\n",
              "      <td>Default</td>\n",
              "      <td>12.0</td>\n",
              "      <td>NaN</td>\n",
              "      <td>1</td>\n",
              "    </tr>\n",
              "    <tr>\n",
              "      <th>345729</th>\n",
              "      <td>20000.0</td>\n",
              "      <td>11.67</td>\n",
              "      <td>140000.0</td>\n",
              "      <td>Default</td>\n",
              "      <td>9.0</td>\n",
              "      <td>NaN</td>\n",
              "      <td>1</td>\n",
              "    </tr>\n",
              "    <tr>\n",
              "      <th>738216</th>\n",
              "      <td>10000.0</td>\n",
              "      <td>13.99</td>\n",
              "      <td>53000.0</td>\n",
              "      <td>Default</td>\n",
              "      <td>4.0</td>\n",
              "      <td>NaN</td>\n",
              "      <td>1</td>\n",
              "    </tr>\n",
              "    <tr>\n",
              "      <th>282110</th>\n",
              "      <td>11950.0</td>\n",
              "      <td>17.57</td>\n",
              "      <td>40000.0</td>\n",
              "      <td>Default</td>\n",
              "      <td>14.0</td>\n",
              "      <td>NaN</td>\n",
              "      <td>1</td>\n",
              "    </tr>\n",
              "  </tbody>\n",
              "</table>\n",
              "</div>"
            ],
            "text/plain": [
              "        loan_amnt  int_rate  annual_inc loan_status  open_acc  open_il_12m  \\\n",
              "444724    10200.0     25.83     37000.0     Default       8.0          NaN   \n",
              "241318    22000.0     20.99     44000.0     Default      12.0          NaN   \n",
              "345729    20000.0     11.67    140000.0     Default       9.0          NaN   \n",
              "738216    10000.0     13.99     53000.0     Default       4.0          NaN   \n",
              "282110    11950.0     17.57     40000.0     Default      14.0          NaN   \n",
              "\n",
              "        defaulted  \n",
              "444724          1  \n",
              "241318          1  \n",
              "345729          1  \n",
              "738216          1  \n",
              "282110          1  "
            ]
          },
          "metadata": {
            "tags": []
          },
          "execution_count": 17
        }
      ]
    },
    {
      "metadata": {
        "id": "yoGWhKMkyj82",
        "colab_type": "code",
        "outputId": "09bba9d1-90b2-40d2-f4b6-a02679b5fef8",
        "colab": {
          "base_uri": "https://localhost:8080/",
          "height": 393
        }
      },
      "cell_type": "code",
      "source": [
        "fig = data.defaulted.hist()\n",
        "fig.set_title('Default')\n",
        "fig.set_xlabel('Default')\n",
        "fig.set_ylabel('Count')"
      ],
      "execution_count": 0,
      "outputs": [
        {
          "output_type": "execute_result",
          "data": {
            "text/plain": [
              "Text(0, 0.5, 'Count')"
            ]
          },
          "metadata": {
            "tags": []
          },
          "execution_count": 21
        },
        {
          "output_type": "display_data",
          "data": {
            "image/png": "[encoded data removed]",
            "text/plain": [
              "<Figure size 576x396 with 1 Axes>"
            ]
          },
          "metadata": {
            "tags": []
          }
        }
      ]
    },
    {
      "metadata": {
        "id": "WORyppIA4QRX",
        "colab_type": "code",
        "colab": {}
      },
      "cell_type": "code",
      "source": [
        "2.2 Open Accounts"
      ],
      "execution_count": 0,
      "outputs": []
    },
    {
      "metadata": {
        "id": "VPF8FgGJzjyS",
        "colab_type": "code",
        "outputId": "24d246f8-b15f-4fe1-97c2-8be3fe88498b",
        "colab": {
          "base_uri": "https://localhost:8080/",
          "height": 85
        }
      },
      "cell_type": "code",
      "source": [
        "data.open_acc.unique()"
      ],
      "execution_count": 0,
      "outputs": [
        {
          "output_type": "execute_result",
          "data": {
            "text/plain": [
              "array([ 4., 11.,  6., 20., 12.,  5.,  8.,  9., 18., 16., 10., 13., 14.,\n",
              "        7., 19.,  3., 15., 17., 26.,  2., 27., 22., 21., 25., 23., 29.,\n",
              "       39., 24., 30., 31., 28., 37., 32., 48., 33., 34.,  1., 35., 36.,\n",
              "       41., 45., 40., 42.])"
            ]
          },
          "metadata": {
            "tags": []
          },
          "execution_count": 22
        }
      ]
    },
    {
      "metadata": {
        "id": "NopFhhW7zzSC",
        "colab_type": "code",
        "outputId": "a0708182-c14d-4290-8a16-176b57c388f9",
        "colab": {
          "base_uri": "https://localhost:8080/",
          "height": 393
        }
      },
      "cell_type": "code",
      "source": [
        "fig = data.open_acc.hist(bins = 100)\n",
        "fig.set_title('Open Accounts')\n",
        "fig.set_xlabel('Open Accounts')\n",
        "fig.set_ylabel('Count')"
      ],
      "execution_count": 0,
      "outputs": [
        {
          "output_type": "execute_result",
          "data": {
            "text/plain": [
              "Text(0, 0.5, 'Count')"
            ]
          },
          "metadata": {
            "tags": []
          },
          "execution_count": 24
        },
        {
          "output_type": "display_data",
          "data": {
            "image/png": "[encoded data removed]",
            "text/plain": [
              "<Figure size 576x396 with 1 Axes>"
            ]
          },
          "metadata": {
            "tags": []
          }
        }
      ]
    },
    {
      "metadata": {
        "id": "u1yRZIkp4Xb9",
        "colab_type": "code",
        "colab": {}
      },
      "cell_type": "code",
      "source": [
        "2.3 Installment Accounts in 12 months"
      ],
      "execution_count": 0,
      "outputs": []
    },
    {
      "metadata": {
        "id": "7tqgvszF0wzn",
        "colab_type": "code",
        "outputId": "b734fc90-17bd-4afa-9abe-8dab4495510f",
        "colab": {
          "base_uri": "https://localhost:8080/",
          "height": 34
        }
      },
      "cell_type": "code",
      "source": [
        "data.open_il_12m.dropna().unique()"
      ],
      "execution_count": 0,
      "outputs": [
        {
          "output_type": "execute_result",
          "data": {
            "text/plain": [
              "array([1., 0., 2., 3., 4., 6.])"
            ]
          },
          "metadata": {
            "tags": []
          },
          "execution_count": 26
        }
      ]
    },
    {
      "metadata": {
        "id": "E-kzhkY-1UOJ",
        "colab_type": "code",
        "outputId": "bfc0278d-9e7c-41ad-c389-9864aae2e4a8",
        "colab": {
          "base_uri": "https://localhost:8080/",
          "height": 393
        }
      },
      "cell_type": "code",
      "source": [
        "fig = data.open_il_12m.hist(bins = 50)\n",
        "fig.set_title('No of Installment account in 12 months')\n",
        "fig.set_xlabel('No of Installment account in 12 months')\n",
        "fig.set_ylabel('No of cutomers')"
      ],
      "execution_count": 0,
      "outputs": [
        {
          "output_type": "execute_result",
          "data": {
            "text/plain": [
              "Text(0, 0.5, 'No of cutomers')"
            ]
          },
          "metadata": {
            "tags": []
          },
          "execution_count": 28
        },
        {
          "output_type": "display_data",
          "data": {
            "image/png": "[encoded data removed]",
            "text/plain": [
              "<Figure size 576x396 with 1 Axes>"
            ]
          },
          "metadata": {
            "tags": []
          }
        }
      ]
    }
  ]
}